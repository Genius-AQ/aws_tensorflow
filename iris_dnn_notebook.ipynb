{
 "cells": [
  {
   "cell_type": "code",
   "execution_count": 1,
   "metadata": {},
   "outputs": [],
   "source": [
    "from sagemaker import get_execution_role\n",
    "from sagemaker.session import Session\n",
    "\n",
    "# S3 bucket for saving code and model artifacts.\n",
    "# Feel free to specify a different bucket here if you wish.\n",
    "bucket = Session().default_bucket()\n",
    "\n",
    "# Location to save your custom code in tar.gz format.\n",
    "custom_code_upload_location = 's3://{}/machinelearning-rd/customcode/tensorflow_iris'.format(bucket)\n",
    "\n",
    "# Location where results of model training are saved.\n",
    "model_artifacts_location = 's3://{}/machinelearning-rd/artifacts'.format(bucket)\n",
    "\n",
    "#IAM execution role that gives SageMaker access to resources in your AWS account.\n",
    "role = get_execution_role()"
   ]
  },
  {
   "cell_type": "code",
   "execution_count": 7,
   "metadata": {},
   "outputs": [
    {
     "name": "stderr",
     "output_type": "stream",
     "text": [
      "W0809 10:16:05.410323 140176566253376 estimator.py:286] tensorflow py2 container will be deprecated soon.\n"
     ]
    }
   ],
   "source": [
    "from sagemaker.tensorflow import TensorFlow\n",
    "\n",
    "iris_estimator = TensorFlow(entry_point='iris_dnn_classifier.py',\n",
    "                            role=role,\n",
    "                            framework_version='1.12.0',\n",
    "                            output_path=model_artifacts_location,\n",
    "                            code_location=custom_code_upload_location,\n",
    "                            train_instance_count=1,\n",
    "                            train_instance_type='ml.c4.xlarge',\n",
    "                            training_steps=1000,\n",
    "                            evaluation_steps=100)"
   ]
  },
  {
   "cell_type": "code",
   "execution_count": 9,
   "metadata": {},
   "outputs": [
    {
     "name": "stdout",
     "output_type": "stream",
     "text": [
      "2019-08-09 10:21:15 Starting - Starting the training job...\n",
      "2019-08-09 10:21:16 Starting - Launching requested ML instances......\n",
      "2019-08-09 10:22:19 Starting - Preparing the instances for training...\n",
      "2019-08-09 10:23:11 Downloading - Downloading input data...\n",
      "2019-08-09 10:23:34 Training - Training image download completed. Training in progress.\n",
      "\u001b[31m2019-08-09 10:23:34,286 INFO - root - running container entrypoint\u001b[0m\n",
      "\u001b[31m2019-08-09 10:23:34,286 INFO - root - starting train task\u001b[0m\n",
      "\u001b[31m2019-08-09 10:23:34,299 INFO - container_support.training - Training starting\u001b[0m\n",
      "\u001b[31mDownloading s3://s3test.thang/machinelearning-rd/customcode/sagemaker-tensorflow-2019-08-09-10-21-15-265/source/sourcedir.tar.gz to /tmp/script.tar.gz\u001b[0m\n",
      "\u001b[31m2019-08-09 10:23:37,244 INFO - tf_container - ----------------------TF_CONFIG--------------------------\u001b[0m\n",
      "\u001b[31m2019-08-09 10:23:37,244 INFO - tf_container - {\"environment\": \"cloud\", \"cluster\": {\"master\": [\"algo-1:2222\"]}, \"task\": {\"index\": 0, \"type\": \"master\"}}\u001b[0m\n",
      "\u001b[31m2019-08-09 10:23:37,244 INFO - tf_container - ---------------------------------------------------------\u001b[0m\n",
      "\u001b[31m2019-08-09 10:23:37,244 INFO - tf_container - creating RunConfig:\u001b[0m\n",
      "\u001b[31m2019-08-09 10:23:37,244 INFO - tf_container - {'save_checkpoints_secs': 300}\u001b[0m\n",
      "\u001b[31m2019-08-09 10:23:37,245 INFO - tensorflow - TF_CONFIG environment variable: {u'environment': u'cloud', u'cluster': {u'master': [u'algo-1:2222']}, u'task': {u'index': 0, u'type': u'master'}}\u001b[0m\n",
      "\u001b[31m2019-08-09 10:23:37,245 INFO - tf_container - invoking the user-provided estimator_fn\u001b[0m\n",
      "\u001b[31m2019-08-09 10:23:37,246 INFO - tensorflow - Using config: {'_save_checkpoints_secs': 300, '_keep_checkpoint_max': 5, '_task_type': u'master', '_cluster_spec': <tensorflow.python.training.server_lib.ClusterSpec object at 0x7fd463017950>, '_keep_checkpoint_every_n_hours': 10000, '_service': None, '_num_ps_replicas': 0, '_tf_random_seed': None, '_device_fn': None, '_num_worker_replicas': 1, '_task_id': 0, '_log_step_count_steps': 100, '_evaluation_master': '', '_eval_distribute': None, '_train_distribute': None, '_session_config': device_filters: \"/job:ps\"\u001b[0m\n",
      "\u001b[31mdevice_filters: \"/job:master\"\u001b[0m\n",
      "\u001b[31mallow_soft_placement: true\u001b[0m\n",
      "\u001b[31mgraph_options {\n",
      "  rewrite_options {\n",
      "    meta_optimizer_iterations: ONE\n",
      "  }\u001b[0m\n",
      "\u001b[31m}\u001b[0m\n",
      "\u001b[31m, '_global_id_in_cluster': 0, '_is_chief': True, '_protocol': None, '_save_checkpoints_steps': None, '_experimental_distribute': None, '_save_summary_steps': 100, '_model_dir': u's3://s3test.thang/machinelearning-rd/artifacts/sagemaker-tensorflow-2019-08-09-10-16-27-536/checkpoints', '_master': ''}\u001b[0m\n",
      "\u001b[31m2019-08-09 10:23:37,246 INFO - tensorflow - Not using Distribute Coordinator.\u001b[0m\n",
      "\u001b[31m2019-08-09 10:23:37,247 INFO - tensorflow - Skip starting Tensorflow server as there is only one node in the cluster.\u001b[0m\n",
      "\u001b[31m2019-08-09 10:23:39,009 WARNING - tensorflow - From /opt/ml/code/iris_dnn_classifier.py:39: load_csv_with_header (from tensorflow.contrib.learn.python.learn.datasets.base) is deprecated and will be removed in a future version.\u001b[0m\n",
      "\u001b[31mInstructions for updating:\u001b[0m\n",
      "\u001b[31mUse tf.data instead.\u001b[0m\n",
      "\u001b[31m2019-08-09 10:23:39,017 WARNING - tensorflow - From /usr/local/lib/python2.7/dist-packages/tensorflow/python/estimator/inputs/queues/feeding_queue_runner.py:62: __init__ (from tensorflow.python.training.queue_runner_impl) is deprecated and will be removed in a future version.\u001b[0m\n",
      "\u001b[31mInstructions for updating:\u001b[0m\n",
      "\u001b[31mTo construct input pipelines, use the `tf.data` module.\u001b[0m\n",
      "\u001b[31m2019-08-09 10:23:39,018 WARNING - tensorflow - From /usr/local/lib/python2.7/dist-packages/tensorflow/python/estimator/inputs/queues/feeding_functions.py:500: add_queue_runner (from tensorflow.python.training.queue_runner_impl) is deprecated and will be removed in a future version.\u001b[0m\n",
      "\u001b[31mInstructions for updating:\u001b[0m\n",
      "\u001b[31mTo construct input pipelines, use the `tf.data` module.\u001b[0m\n",
      "\u001b[31m2019-08-09 10:23:39,029 INFO - tensorflow - Calling model_fn.\u001b[0m\n",
      "\u001b[31m2019-08-09 10:23:39,294 INFO - tensorflow - Done calling model_fn.\u001b[0m\n",
      "\u001b[31m2019-08-09 10:23:39,294 INFO - tensorflow - Create CheckpointSaverHook.\u001b[0m\n",
      "\u001b[31m2019-08-09 10:23:39,930 INFO - tensorflow - Graph was finalized.\u001b[0m\n",
      "\u001b[31m2019-08-09 10:23:40,068 INFO - tensorflow - Running local_init_op.\u001b[0m\n",
      "\u001b[31m2019-08-09 10:23:40,072 INFO - tensorflow - Done running local_init_op.\u001b[0m\n",
      "\u001b[31m2019-08-09 10:23:40,090 WARNING - tensorflow - From /usr/local/lib/python2.7/dist-packages/tensorflow/python/training/monitored_session.py:804: start_queue_runners (from tensorflow.python.training.queue_runner_impl) is deprecated and will be removed in a future version.\u001b[0m\n",
      "\u001b[31mInstructions for updating:\u001b[0m\n",
      "\u001b[31mTo construct input pipelines, use the `tf.data` module.\u001b[0m\n",
      "\u001b[31m2019-08-09 10:23:40,430 INFO - tensorflow - Saving checkpoints for 0 into s3://s3test.thang/machinelearning-rd/artifacts/sagemaker-tensorflow-2019-08-09-10-16-27-536/checkpoints/model.ckpt.\u001b[0m\n",
      "\u001b[31m2019-08-09 10:23:41,533 INFO - tensorflow - loss = 127.13544, step = 1\u001b[0m\n",
      "\u001b[31m2019-08-09 10:23:41,923 INFO - tensorflow - global_step/sec: 256.118\u001b[0m\n",
      "\u001b[31m2019-08-09 10:23:41,924 INFO - tensorflow - loss = 13.686836, step = 101 (0.391 sec)\u001b[0m\n",
      "\u001b[31m2019-08-09 10:23:42,193 INFO - tensorflow - global_step/sec: 371.388\u001b[0m\n",
      "\u001b[31m2019-08-09 10:23:42,193 INFO - tensorflow - loss = 6.66446, step = 201 (0.269 sec)\u001b[0m\n",
      "\u001b[31m2019-08-09 10:23:42,460 INFO - tensorflow - global_step/sec: 374.158\u001b[0m\n",
      "\u001b[31m2019-08-09 10:23:42,461 INFO - tensorflow - loss = 4.1518955, step = 301 (0.267 sec)\u001b[0m\n",
      "\u001b[31m2019-08-09 10:23:42,734 INFO - tensorflow - global_step/sec: 364.972\u001b[0m\n",
      "\u001b[31m2019-08-09 10:23:42,735 INFO - tensorflow - loss = 6.164363, step = 401 (0.274 sec)\u001b[0m\n",
      "\u001b[31m2019-08-09 10:23:43,001 INFO - tensorflow - global_step/sec: 374.741\u001b[0m\n",
      "\u001b[31m2019-08-09 10:23:43,002 INFO - tensorflow - loss = 6.862969, step = 501 (0.267 sec)\u001b[0m\n",
      "\u001b[31m2019-08-09 10:23:43,267 INFO - tensorflow - global_step/sec: 375.408\u001b[0m\n",
      "\u001b[31m2019-08-09 10:23:43,268 INFO - tensorflow - loss = 10.757601, step = 601 (0.266 sec)\u001b[0m\n",
      "\u001b[31m2019-08-09 10:23:43,531 INFO - tensorflow - global_step/sec: 379.088\u001b[0m\n",
      "\u001b[31m2019-08-09 10:23:43,532 INFO - tensorflow - loss = 9.537033, step = 701 (0.264 sec)\u001b[0m\n",
      "\u001b[31m2019-08-09 10:23:43,805 INFO - tensorflow - global_step/sec: 364.495\u001b[0m\n",
      "\u001b[31m2019-08-09 10:23:43,806 INFO - tensorflow - loss = 6.2726707, step = 801 (0.274 sec)\u001b[0m\n",
      "\u001b[31m2019-08-09 10:23:44,072 INFO - tensorflow - global_step/sec: 374.547\u001b[0m\n",
      "\u001b[31m2019-08-09 10:23:44,073 INFO - tensorflow - loss = 6.2440853, step = 901 (0.267 sec)\u001b[0m\n",
      "\u001b[31m2019-08-09 10:23:44,333 INFO - tensorflow - Saving checkpoints for 1000 into s3://s3test.thang/machinelearning-rd/artifacts/sagemaker-tensorflow-2019-08-09-10-16-27-536/checkpoints/model.ckpt.\u001b[0m\n",
      "\u001b[31m2019-08-09 10:23:45,267 INFO - tensorflow - Calling model_fn.\u001b[0m\n",
      "\u001b[31m2019-08-09 10:23:45,443 INFO - tensorflow - Done calling model_fn.\u001b[0m\n",
      "\u001b[31m2019-08-09 10:23:45,462 INFO - tensorflow - Starting evaluation at 2019-08-09-10:23:45\u001b[0m\n",
      "\u001b[31m2019-08-09 10:23:45,661 INFO - tensorflow - Graph was finalized.\u001b[0m\n",
      "\u001b[31m2019-08-09 10:23:45,746 INFO - tensorflow - Restoring parameters from s3://s3test.thang/machinelearning-rd/artifacts/sagemaker-tensorflow-2019-08-09-10-16-27-536/checkpoints/model.ckpt-1000\u001b[0m\n",
      "\u001b[31m2019-08-09 10:23:46,006 INFO - tensorflow - Running local_init_op.\u001b[0m\n",
      "\u001b[31m2019-08-09 10:23:46,018 INFO - tensorflow - Done running local_init_op.\u001b[0m\n",
      "\u001b[31m2019-08-09 10:23:46,146 INFO - tensorflow - Evaluation [10/100]\u001b[0m\n",
      "\u001b[31m2019-08-09 10:23:46,167 INFO - tensorflow - Evaluation [20/100]\u001b[0m\n",
      "\u001b[31m2019-08-09 10:23:46,188 INFO - tensorflow - Evaluation [30/100]\u001b[0m\n",
      "\u001b[31m2019-08-09 10:23:46,209 INFO - tensorflow - Evaluation [40/100]\u001b[0m\n",
      "\u001b[31m2019-08-09 10:23:46,230 INFO - tensorflow - Evaluation [50/100]\u001b[0m\n",
      "\u001b[31m2019-08-09 10:23:46,252 INFO - tensorflow - Evaluation [60/100]\u001b[0m\n",
      "\u001b[31m2019-08-09 10:23:46,273 INFO - tensorflow - Evaluation [70/100]\u001b[0m\n",
      "\u001b[31m2019-08-09 10:23:46,293 INFO - tensorflow - Evaluation [80/100]\u001b[0m\n",
      "\u001b[31m2019-08-09 10:23:46,314 INFO - tensorflow - Evaluation [90/100]\u001b[0m\n",
      "\u001b[31m2019-08-09 10:23:46,335 INFO - tensorflow - Evaluation [100/100]\u001b[0m\n",
      "\u001b[31m2019-08-09 10:23:46,388 INFO - tensorflow - Finished evaluation at 2019-08-09-10:23:46\u001b[0m\n",
      "\u001b[31m2019-08-09 10:23:46,388 INFO - tensorflow - Saving dict for global step 1000: accuracy = 0.96671873, average_loss = 0.061957, global_step = 1000, loss = 7.930496\u001b[0m\n",
      "\u001b[31m2019-08-09 10:23:46,809 INFO - tensorflow - Saving 'checkpoint_path' summary for global step 1000: s3://s3test.thang/machinelearning-rd/artifacts/sagemaker-tensorflow-2019-08-09-10-16-27-536/checkpoints/model.ckpt-1000\u001b[0m\n",
      "\u001b[31m2019-08-09 10:23:47,234 INFO - tensorflow - Calling model_fn.\u001b[0m\n",
      "\u001b[31m2019-08-09 10:23:47,333 INFO - tensorflow - Done calling model_fn.\u001b[0m\n",
      "\u001b[31m2019-08-09 10:23:47,334 INFO - tensorflow - Signatures INCLUDED in export for Eval: None\u001b[0m\n",
      "\u001b[31m2019-08-09 10:23:47,334 INFO - tensorflow - Signatures INCLUDED in export for Classify: ['serving_default', 'classification']\u001b[0m\n",
      "\u001b[31m2019-08-09 10:23:47,334 INFO - tensorflow - Signatures INCLUDED in export for Regress: None\u001b[0m\n",
      "\u001b[31m2019-08-09 10:23:47,334 INFO - tensorflow - Signatures INCLUDED in export for Predict: ['predict']\u001b[0m\n",
      "\u001b[31m2019-08-09 10:23:47,334 INFO - tensorflow - Signatures INCLUDED in export for Train: None\u001b[0m\n",
      "\u001b[31m2019-08-09 10:23:47,487 INFO - tensorflow - Restoring parameters from s3://s3test.thang/machinelearning-rd/artifacts/sagemaker-tensorflow-2019-08-09-10-16-27-536/checkpoints/model.ckpt-1000\u001b[0m\n",
      "\u001b[31m2019-08-09 10:23:47,655 WARNING - tensorflow - From /usr/local/lib/python2.7/dist-packages/tensorflow/python/estimator/estimator.py:1046: calling add_meta_graph_and_variables (from tensorflow.python.saved_model.builder_impl) with legacy_init_op is deprecated and will be removed in a future version.\u001b[0m\n",
      "\u001b[31mInstructions for updating:\u001b[0m\n",
      "\u001b[31mPass your op to the equivalent parameter main_op instead.\u001b[0m\n",
      "\u001b[31m2019-08-09 10:23:47,655 INFO - tensorflow - Assets added to graph.\u001b[0m\n",
      "\u001b[31m2019-08-09 10:23:47,655 INFO - tensorflow - No assets to write.\u001b[0m\n",
      "\u001b[31m2019-08-09 10:23:48,738 INFO - tensorflow - SavedModel written to: s3://s3test.thang/machinelearning-rd/artifacts/sagemaker-tensorflow-2019-08-09-10-16-27-536/checkpoints/export/Servo/1565346226/saved_model.pb\u001b[0m\n",
      "\u001b[31m2019-08-09 10:23:49,023 INFO - tensorflow - Loss for final step: 5.184657.\u001b[0m\n",
      "\u001b[31m2019-08-09 10:23:49,336 INFO - tf_container - Downloaded saved model at /opt/ml/model/export/Servo/1565346226\u001b[0m\n",
      "\n",
      "2019-08-09 10:23:55 Uploading - Uploading generated training model\n",
      "2019-08-09 10:23:55 Completed - Training job completed\n",
      "Billable seconds: 45\n",
      "CPU times: user 408 ms, sys: 20.3 ms, total: 429 ms\n",
      "Wall time: 3min 12s\n"
     ]
    }
   ],
   "source": [
    "%%time\n",
    "import boto3\n",
    "\n",
    "# use the region-specific sample data bucket\n",
    "region = boto3.Session().region_name\n",
    "train_data_location = 's3://sagemaker-sample-data-{}/tensorflow/iris'.format(region)\n",
    "\n",
    "iris_estimator.fit(train_data_location)"
   ]
  },
  {
   "cell_type": "code",
   "execution_count": 10,
   "metadata": {},
   "outputs": [
    {
     "name": "stderr",
     "output_type": "stream",
     "text": [
      "W0809 10:28:47.844547 140176566253376 model.py:103] The Python 2 tensorflow images will be soon deprecated and may not be supported for newer upcoming versions of the tensorflow images.\n",
      "Please set the argument \"py_version='py3'\" to use the Python 3 tensorflow image.\n"
     ]
    },
    {
     "name": "stdout",
     "output_type": "stream",
     "text": [
      "--------------------------------------------------------------------------------------------------!CPU times: user 509 ms, sys: 18.1 ms, total: 527 ms\n",
      "Wall time: 8min 16s\n"
     ]
    }
   ],
   "source": [
    "%%time\n",
    "iris_predictor = iris_estimator.deploy(initial_instance_count=1,\n",
    "                                       instance_type='ml.m4.xlarge')"
   ]
  },
  {
   "cell_type": "code",
   "execution_count": 11,
   "metadata": {},
   "outputs": [
    {
     "data": {
      "text/plain": [
       "{'result': {'classifications': [{'classes': [{'label': '0',\n",
       "      'score': 3.6902718420606107e-05},\n",
       "     {'label': '1', 'score': 0.9997839331626892},\n",
       "     {'label': '2', 'score': 0.00017915625358000398}]}]},\n",
       " 'model_spec': {'name': 'generic_model',\n",
       "  'version': {'value': 1565346226},\n",
       "  'signature_name': 'serving_default'}}"
      ]
     },
     "execution_count": 11,
     "metadata": {},
     "output_type": "execute_result"
    }
   ],
   "source": [
    "iris_predictor.predict([6.4, 3.2, 4.5, 1.5])"
   ]
  },
  {
   "cell_type": "code",
   "execution_count": 12,
   "metadata": {},
   "outputs": [],
   "source": [
    "import sagemaker\n",
    "\n",
    "sagemaker.Session().delete_endpoint(iris_predictor.endpoint)"
   ]
  },
  {
   "cell_type": "code",
   "execution_count": 13,
   "metadata": {},
   "outputs": [
    {
     "name": "stdout",
     "output_type": "stream",
     "text": [
      "sagemaker-tensorflow-2019-08-09-10-21-15-265\n"
     ]
    }
   ],
   "source": [
    "print(iris_predictor.endpoint)"
   ]
  },
  {
   "cell_type": "code",
   "execution_count": null,
   "metadata": {},
   "outputs": [],
   "source": []
  }
 ],
 "metadata": {
  "kernelspec": {
   "display_name": "conda_tensorflow_p36",
   "language": "python",
   "name": "conda_tensorflow_p36"
  },
  "language_info": {
   "codemirror_mode": {
    "name": "ipython",
    "version": 3
   },
   "file_extension": ".py",
   "mimetype": "text/x-python",
   "name": "python",
   "nbconvert_exporter": "python",
   "pygments_lexer": "ipython3",
   "version": "3.6.5"
  }
 },
 "nbformat": 4,
 "nbformat_minor": 4
}
